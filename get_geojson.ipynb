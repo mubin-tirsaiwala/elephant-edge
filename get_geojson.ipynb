{
 "cells": [
  {
   "cell_type": "code",
   "execution_count": 31,
   "metadata": {},
   "outputs": [],
   "source": [
    "import pandas as pd\n",
    "import numpy as np"
   ]
  },
  {
   "cell_type": "code",
   "execution_count": 4,
   "metadata": {},
   "outputs": [],
   "source": [
    "df=pd.read_csv('Elephant_GPS_Collar_Data.csv')"
   ]
  },
  {
   "cell_type": "code",
   "execution_count": 21,
   "metadata": {},
   "outputs": [],
   "source": [
    "names = df.NAME.unique()"
   ]
  },
  {
   "cell_type": "code",
   "execution_count": 25,
   "metadata": {},
   "outputs": [],
   "source": [
    "def get_geojson(df, name, col_names):\n",
    "    from geojson import Feature, FeatureCollection, Point\n",
    "    \n",
    "    df = df[df.NAME == name]\n",
    "    df = df[col_names]\n",
    "    \n",
    "    features = []\n",
    "    for lon, lat in df.values:\n",
    "        latitude, longitude = map(float, (lat, lon))\n",
    "        features.append(\n",
    "            Feature(\n",
    "                geometry = Point((longitude, latitude))\n",
    "                )\n",
    "            )\n",
    "    collection = FeatureCollection(features)\n",
    "    \n",
    "    with open(name + '.geojson', 'w') as f:\n",
    "        f.write('%s' %collection)"
   ]
  },
  {
   "cell_type": "code",
   "execution_count": 27,
   "metadata": {},
   "outputs": [],
   "source": [
    "for i in names:\n",
    "    get_geojson(df, i, ['LONGITUDE', 'LATITUDE'])"
   ]
  }
 ],
 "metadata": {
  "kernelspec": {
   "display_name": "Python 3",
   "language": "python",
   "name": "python3"
  },
  "language_info": {
   "codemirror_mode": {
    "name": "ipython",
    "version": 3
   },
   "file_extension": ".py",
   "mimetype": "text/x-python",
   "name": "python",
   "nbconvert_exporter": "python",
   "pygments_lexer": "ipython3",
   "version": "3.6.9"
  }
 },
 "nbformat": 4,
 "nbformat_minor": 4
}
